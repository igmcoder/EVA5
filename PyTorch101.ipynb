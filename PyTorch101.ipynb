{
  "nbformat": 4,
  "nbformat_minor": 0,
  "metadata": {
    "colab": {
      "name": "PyTorch101.ipynb",
      "provenance": [],
      "include_colab_link": true
    },
    "kernelspec": {
      "name": "python3",
      "display_name": "Python 3"
    }
  },
  "cells": [
    {
      "cell_type": "markdown",
      "metadata": {
        "id": "view-in-github",
        "colab_type": "text"
      },
      "source": [
        "<a href=\"https://colab.research.google.com/github/igmcoder/EVA5/blob/master/PyTorch101.ipynb\" target=\"_parent\"><img src=\"https://colab.research.google.com/assets/colab-badge.svg\" alt=\"Open In Colab\"/></a>"
      ]
    },
    {
      "cell_type": "markdown",
      "metadata": {
        "id": "_kYM3ylzYo1Q",
        "colab_type": "text"
      },
      "source": [
        "![PyTorch](https://devblogs.nvidia.com/wp-content/uploads/2017/04/pytorch-logo-dark.png)\n",
        "\n",
        "An open source machine learning framework that accelerates the path from research prototyping to production deployment.\n",
        "\n"
      ]
    },
    {
      "cell_type": "markdown",
      "metadata": {
        "id": "WcVqSTrWY6oz",
        "colab_type": "text"
      },
      "source": [
        "# Tensor - Pytorch's core data structure\n",
        "\n",
        "In Python we can create lists, lists of lists, lists of lists and so on. In NumPy there is a `numpy.ndarray` which represents `n`- dimensional array. In math there is a special name for the generalization of vectors and matrices to a higher dimensional space - a tensor\n",
        "\n",
        "Tensor is an entity with a defined number of dimensions called an order (rank). \n",
        "\n",
        "**Scalar** can be considered as a rank-0-tensor. \n",
        "\n",
        "**Vector** can be introduced as a rank-1-tensor. \n",
        "\n",
        "**Matrices** can be considered as a rank-2-tensor.\n",
        "\n",
        "# Tensor Basics\n",
        "\n",
        "Let's import the torch module first."
      ]
    },
    {
      "cell_type": "code",
      "metadata": {
        "id": "e-oFVL2tYYqp",
        "colab_type": "code",
        "colab": {}
      },
      "source": [
        "import numpy as np\n",
        "import torch"
      ],
      "execution_count": 1,
      "outputs": []
    },
    {
      "cell_type": "markdown",
      "metadata": {
        "id": "uGxuR5IEaFJa",
        "colab_type": "text"
      },
      "source": [
        "## Tensor Creation\n",
        "Let's view examples of matrices and tensors generation\n",
        "\n",
        "2-dimensional (rank-2) tensor of zeros:"
      ]
    },
    {
      "cell_type": "code",
      "metadata": {
        "id": "897JQc25aD3E",
        "colab_type": "code",
        "colab": {
          "base_uri": "https://localhost:8080/",
          "height": 69
        },
        "outputId": "118f2678-8d3a-44b5-d528-37071356dc47"
      },
      "source": [
        "torch.zeros(3, 4)"
      ],
      "execution_count": 2,
      "outputs": [
        {
          "output_type": "execute_result",
          "data": {
            "text/plain": [
              "tensor([[0., 0., 0., 0.],\n",
              "        [0., 0., 0., 0.],\n",
              "        [0., 0., 0., 0.]])"
            ]
          },
          "metadata": {
            "tags": []
          },
          "execution_count": 2
        }
      ]
    },
    {
      "cell_type": "markdown",
      "metadata": {
        "id": "pujmpEBhaPRA",
        "colab_type": "text"
      },
      "source": [
        "Random rank-3 tensor:\n",
        "_read the print below and convince yourself how this is a rank-3-tensor and learn what those 2, 3, 4 values are there for_"
      ]
    },
    {
      "cell_type": "code",
      "metadata": {
        "id": "mBrznTNhaOL7",
        "colab_type": "code",
        "colab": {
          "base_uri": "https://localhost:8080/",
          "height": 138
        },
        "outputId": "280e2f49-039b-41dd-9f9f-c8cb03ba90dc"
      },
      "source": [
        "torch.rand(2, 3, 4)"
      ],
      "execution_count": 3,
      "outputs": [
        {
          "output_type": "execute_result",
          "data": {
            "text/plain": [
              "tensor([[[0.0767, 0.0626, 0.7817, 0.1588],\n",
              "         [0.9360, 0.4359, 0.0990, 0.7616],\n",
              "         [0.1236, 0.1831, 0.9613, 0.2209]],\n",
              "\n",
              "        [[0.1371, 0.0073, 0.1863, 0.0512],\n",
              "         [0.2903, 0.4525, 0.9749, 0.5045],\n",
              "         [0.3872, 0.1101, 0.6452, 0.4963]]])"
            ]
          },
          "metadata": {
            "tags": []
          },
          "execution_count": 3
        }
      ]
    },
    {
      "cell_type": "markdown",
      "metadata": {
        "id": "kO4fIr15asdi",
        "colab_type": "text"
      },
      "source": [
        "I am hoping you have noticed 4-elements in a row, 3 rows making one block and there are 2 blocks. \n",
        "\n",
        "Random rank-4-tensor:"
      ]
    },
    {
      "cell_type": "code",
      "metadata": {
        "id": "KiCLvMGCaVZ3",
        "colab_type": "code",
        "colab": {
          "base_uri": "https://localhost:8080/",
          "height": 225
        },
        "outputId": "e2727879-e450-4ffc-fc36-28157d2e94a0"
      },
      "source": [
        "torch.rand(2, 2, 2, 3)"
      ],
      "execution_count": 4,
      "outputs": [
        {
          "output_type": "execute_result",
          "data": {
            "text/plain": [
              "tensor([[[[0.6279, 0.7596, 0.4255],\n",
              "          [0.4811, 0.5170, 0.8884]],\n",
              "\n",
              "         [[0.9495, 0.3345, 0.6951],\n",
              "          [0.1664, 0.8574, 0.3075]]],\n",
              "\n",
              "\n",
              "        [[[0.7509, 0.2936, 0.4239],\n",
              "          [0.1145, 0.9846, 0.5476]],\n",
              "\n",
              "         [[0.2846, 0.9357, 0.0516],\n",
              "          [0.3436, 0.0775, 0.7964]]]])"
            ]
          },
          "metadata": {
            "tags": []
          },
          "execution_count": 4
        }
      ]
    },
    {
      "cell_type": "markdown",
      "metadata": {
        "id": "lF6VL68s3AMV",
        "colab_type": "text"
      },
      "source": [
        "## Question 1:\n",
        "\n",
        "How many dimensions are there in a tensor defined as below?"
      ]
    },
    {
      "cell_type": "code",
      "metadata": {
        "id": "8IbXcI3x3Ibt",
        "colab_type": "code",
        "colab": {
          "base_uri": "https://localhost:8080/",
          "height": 69
        },
        "outputId": "45a4d1fb-ff7a-42a3-9d66-7b108ccfdebf"
      },
      "source": [
        "t = torch.rand(1, 1, 1, 1)\n",
        "print(t)\n",
        "print(t.size())\n",
        "t.numel()"
      ],
      "execution_count": 11,
      "outputs": [
        {
          "output_type": "stream",
          "text": [
            "tensor([[[[0.6950]]]])\n",
            "torch.Size([1, 1, 1, 1])\n"
          ],
          "name": "stdout"
        },
        {
          "output_type": "execute_result",
          "data": {
            "text/plain": [
              "1"
            ]
          },
          "metadata": {
            "tags": []
          },
          "execution_count": 11
        }
      ]
    },
    {
      "cell_type": "markdown",
      "metadata": {
        "id": "qmgpqssRa9jF",
        "colab_type": "text"
      },
      "source": [
        ".\n",
        "\n",
        "---\n",
        "\n",
        "\n",
        "There are many more ways to create tensor using some restrictions on values it should contatn - for the full reference, please follow the [official docs](https://pytorch.org/docs/stable/torch.html#creation-ops). \n",
        "\n",
        "\n",
        ".\n",
        "---\n",
        "\n",
        "\n",
        "# Python / NumPy / Pytorch interoperability\n",
        "\n",
        "You can create tensors from python as well as numpy arrays. You can also convert torch tensors to numpy arrays. So, the interoperability between torch and numpy is pretty good. "
      ]
    },
    {
      "cell_type": "code",
      "metadata": {
        "id": "ipgpeWPfa6gE",
        "colab_type": "code",
        "colab": {
          "base_uri": "https://localhost:8080/",
          "height": 121
        },
        "outputId": "f8b8958d-1f3a-426e-958a-5b8639c786b9"
      },
      "source": [
        "# Simple Python List\n",
        "python_list = [1, 2]\n",
        "\n",
        "# Create a numpy array from python list\n",
        "numpy_array = np.array(python_list)\n",
        "\n",
        "# Create a torch Tensor from python list\n",
        "tensor_from_list = torch.tensor(python_list)\n",
        "\n",
        "# Create a torch Tensor from Numpy array\n",
        "tensor_from_array = torch.tensor(numpy_array)\n",
        "\n",
        "# Another way to create a torch Tensor from Numpy array (share same storage)\n",
        "tensor_from_array_v2 = torch.from_numpy(numpy_array)\n",
        "\n",
        "# Convert torch tensor to numpy array\n",
        "array_from_tensor = tensor_from_array.numpy()\n",
        "\n",
        "print('List:   ', python_list)\n",
        "print('Array:  ', numpy_array)\n",
        "print('Tensor: ', tensor_from_list)\n",
        "print('Tensor: ', tensor_from_array)\n",
        "print('Tensor: ', tensor_from_array_v2)\n",
        "print('Array:  ', array_from_tensor)"
      ],
      "execution_count": 13,
      "outputs": [
        {
          "output_type": "stream",
          "text": [
            "List:    [1, 2]\n",
            "Array:   [1 2]\n",
            "Tensor:  tensor([1, 2])\n",
            "Tensor:  tensor([1, 2])\n",
            "Tensor:  tensor([1, 2])\n",
            "Array:   [1 2]\n"
          ],
          "name": "stdout"
        }
      ]
    },
    {
      "cell_type": "markdown",
      "metadata": {
        "id": "X_x-86B8gqik",
        "colab_type": "text"
      },
      "source": [
        "**Difference between** `torch.Tensor` **and** `torch.from_numpy`\n",
        "\n",
        "Pytorch aims to be an effective library for computations. What does it mean? It means that pytorch avoids memory copying if it can. "
      ]
    },
    {
      "cell_type": "code",
      "metadata": {
        "id": "eHCKDGpygn_d",
        "colab_type": "code",
        "colab": {
          "base_uri": "https://localhost:8080/",
          "height": 69
        },
        "outputId": "b234e341-9f12-4979-cbde-3850241a31d4"
      },
      "source": [
        "numpy_array[0] = 10\n",
        "\n",
        "print('Array:  ', numpy_array)\n",
        "print('Tensor: ', tensor_from_array)\n",
        "print('Tensor: ', tensor_from_array_v2)"
      ],
      "execution_count": 14,
      "outputs": [
        {
          "output_type": "stream",
          "text": [
            "Array:   [10  2]\n",
            "Tensor:  tensor([1, 2])\n",
            "Tensor:  tensor([10,  2])\n"
          ],
          "name": "stdout"
        }
      ]
    },
    {
      "cell_type": "markdown",
      "metadata": {
        "id": "-CKtdNRM3SMp",
        "colab_type": "text"
      },
      "source": [
        "## Question 2:\n",
        "\n",
        "Assume that we moved our complete (cats vs dogs) image dataset to numpy arrays. Then we use torch.from_numpy to convert these images to tensor. Then we apply a specific data augmentation strategy called \"CutOut\" which blocks a portion of the image directly on these tensors. What will happen to the accuracy of a model trained on this strategy compared to the one without this strategy? CutOut strategy is shown below: \n",
        "\n",
        "![CutOut](https://encrypted-tbn0.gstatic.com/images?q=tbn%3AANd9GcSnSyN835AmtQPKQbPjDHX-FmshNilbtexX95cRGQPwl56QCGDn)\n",
        "\n",
        "## Question 3:\n",
        "Why do you think we are observing this behavior?\n",
        "\n",
        "\n",
        "\n",
        "---\n",
        "\n",
        "\n"
      ]
    },
    {
      "cell_type": "markdown",
      "metadata": {
        "id": "dZq7O-aihSOA",
        "colab_type": "text"
      },
      "source": [
        "We have two different ways to create tensor from its NumPy counterpart - one copies memory and another one shares the same underlying storage. It works in the opposite way:"
      ]
    },
    {
      "cell_type": "code",
      "metadata": {
        "id": "TNFOwV8EhPwQ",
        "colab_type": "code",
        "colab": {
          "base_uri": "https://localhost:8080/",
          "height": 86
        },
        "outputId": "8240849e-fcf7-45e7-dff3-33580bc5687a"
      },
      "source": [
        "array_from_tensor = tensor_from_array.numpy()\n",
        "print('Tensor: ', tensor_from_array)\n",
        "print('Array: ', array_from_tensor)\n",
        "\n",
        "tensor_from_array[0] = 11\n",
        "print('Tensor: ', tensor_from_array)\n",
        "print('Array: ', array_from_tensor)"
      ],
      "execution_count": 15,
      "outputs": [
        {
          "output_type": "stream",
          "text": [
            "Tensor:  tensor([1, 2])\n",
            "Array:  [1 2]\n",
            "Tensor:  tensor([11,  2])\n",
            "Array:  [11  2]\n"
          ],
          "name": "stdout"
        }
      ]
    },
    {
      "cell_type": "markdown",
      "metadata": {
        "id": "UM9ytbvKhtCw",
        "colab_type": "text"
      },
      "source": [
        "## Data types\n",
        "\n",
        "The basic data type of all Deep Learning-related operations is float, but sometimes you may need something else. Pytorch support different number types for its tensors the same way NumPy does it - by specifying the data type on tensor creation or via casting. Ths full list of supported data types can be found [here](https://pytorch.org/docs/stable/tensors.html). "
      ]
    },
    {
      "cell_type": "code",
      "metadata": {
        "id": "Bd6WkzJ4hpYi",
        "colab_type": "code",
        "colab": {
          "base_uri": "https://localhost:8080/",
          "height": 155
        },
        "outputId": "4228079f-4ea1-429d-9dd2-c2fabbe63ba0"
      },
      "source": [
        "tensor = torch.zeros(2, 2)\n",
        "print('Tensor with default type: ', tensor)\n",
        "tensor = torch.zeros(2, 2, dtype=torch.float16)\n",
        "print('Tensor with 16-bit float: ', tensor)\n",
        "tensor = torch.zeros(2, 2, dtype=torch.int16)\n",
        "print('Tensor with integers: ', tensor)\n",
        "tensor = torch.zeros(2, 2, dtype=torch.bool)\n",
        "print('Tensor with boolean data: ', tensor)"
      ],
      "execution_count": 16,
      "outputs": [
        {
          "output_type": "stream",
          "text": [
            "Tensor with default type:  tensor([[0., 0.],\n",
            "        [0., 0.]])\n",
            "Tensor with 16-bit float:  tensor([[0., 0.],\n",
            "        [0., 0.]], dtype=torch.float16)\n",
            "Tensor with integers:  tensor([[0, 0],\n",
            "        [0, 0]], dtype=torch.int16)\n",
            "Tensor with boolean data:  tensor([[False, False],\n",
            "        [False, False]])\n"
          ],
          "name": "stdout"
        }
      ]
    },
    {
      "cell_type": "markdown",
      "metadata": {
        "id": "a9F4Dkdr40TE",
        "colab_type": "text"
      },
      "source": [
        "\n",
        "\n",
        "---\n",
        "\n",
        "\n",
        "## Question 4:\n",
        "We saw above that some times numpy and tensors share same storage and changing one changes the other. \n",
        "If we define a rank-2-tensor with ones (dtype of f16), and then convert it into a numpy data type using tensor.numpy() and store it in a variable called \"num\", and then we perform this operation `num = num * 0.5`, will the original tensor have 1.0s or 0.5s as its element values? \n"
      ]
    },
    {
      "cell_type": "code",
      "metadata": {
        "id": "2azHYxxXbzov",
        "colab_type": "code",
        "colab": {
          "base_uri": "https://localhost:8080/",
          "height": 121
        },
        "outputId": "8b0409f9-99dc-4bf8-971a-306d18c19c78"
      },
      "source": [
        "t = torch.ones(2, 2, dtype=torch.float16)\n",
        "print(t)\n",
        "n = t.numpy()\n",
        "n = n * 0.5\n",
        "print(n)\n",
        "print(t)"
      ],
      "execution_count": 42,
      "outputs": [
        {
          "output_type": "stream",
          "text": [
            "tensor([[1., 1.],\n",
            "        [1., 1.]], dtype=torch.float16)\n",
            "[[0.5 0.5]\n",
            " [0.5 0.5]]\n",
            "tensor([[1., 1.],\n",
            "        [1., 1.]], dtype=torch.float16)\n"
          ],
          "name": "stdout"
        }
      ]
    },
    {
      "cell_type": "markdown",
      "metadata": {
        "id": "dU3UmRCJsUf-",
        "colab_type": "text"
      },
      "source": [
        "* Note:\n",
        "- Both `t` and `n` point to the same data location. Why `t` does not change when `n` is overwritten is because line #4 creates the multiplication output in a new data location. And the object name `n` then points to the new location.\n",
        "- If instead, the operation was `n *= 0.5`, the multiplication would have been done in-place, as the `*=` operator would inform the object that the result should be in-place."
      ]
    },
    {
      "cell_type": "markdown",
      "metadata": {
        "id": "OiQt8Mmm51OE",
        "colab_type": "text"
      },
      "source": [
        "\n",
        "\n",
        "---\n",
        "\n",
        "## Question 5: \n",
        "If the operation `num = num*5` is changed to `num[:] = num*5` will the original tensor have 1.0s or 0.5s as its element values? \n",
        "\n",
        "\n",
        "\n",
        "---\n",
        "\n"
      ]
    },
    {
      "cell_type": "code",
      "metadata": {
        "id": "asBpXW8Tch-s",
        "colab_type": "code",
        "colab": {
          "base_uri": "https://localhost:8080/",
          "height": 121
        },
        "outputId": "3f5f6f82-a7a3-4f04-d04e-9ccbcb8c6904"
      },
      "source": [
        "t = torch.ones(2, 2, dtype=torch.float16)\n",
        "print(t)\n",
        "n = t.numpy()\n",
        "n[:] = n * 0.5\n",
        "print(n)\n",
        "print(t)"
      ],
      "execution_count": 44,
      "outputs": [
        {
          "output_type": "stream",
          "text": [
            "tensor([[1., 1.],\n",
            "        [1., 1.]], dtype=torch.float16)\n",
            "[[0.5 0.5]\n",
            " [0.5 0.5]]\n",
            "tensor([[0.5000, 0.5000],\n",
            "        [0.5000, 0.5000]], dtype=torch.float16)\n"
          ],
          "name": "stdout"
        }
      ]
    },
    {
      "cell_type": "markdown",
      "metadata": {
        "id": "vzh8UB8KiVmb",
        "colab_type": "text"
      },
      "source": [
        "## Indexing\n",
        "\n",
        "Tensor provides access to its elements via the same `[]` operation as a regular python list or NumPy array. However, as you may recall from NumPy usage, the full power of math libraries is accessible only via vectorized operations, i.e. operations without explicit looping over all vector elements in python and using implicit optimized loops in C/C++/CUDA/Fortran/etc. available via special function calls. Pytorch employs the same paradigm and provides a wide range of vectorized operations. Let's take a look at some examples. \n",
        "\n",
        "Joining a list of tensors together with `torch.cat`"
      ]
    },
    {
      "cell_type": "code",
      "metadata": {
        "id": "GMaCDKPhiUAb",
        "colab_type": "code",
        "colab": {
          "base_uri": "https://localhost:8080/",
          "height": 121
        },
        "outputId": "e1b222a8-24f1-4b19-ed14-9011f38505cb"
      },
      "source": [
        "a = torch.zeros(3, 2)\n",
        "b = torch.ones(3, 2)\n",
        "print(torch.cat((a, b), dim=0))"
      ],
      "execution_count": 45,
      "outputs": [
        {
          "output_type": "stream",
          "text": [
            "tensor([[0., 0.],\n",
            "        [0., 0.],\n",
            "        [0., 0.],\n",
            "        [1., 1.],\n",
            "        [1., 1.],\n",
            "        [1., 1.]])\n"
          ],
          "name": "stdout"
        }
      ]
    },
    {
      "cell_type": "markdown",
      "metadata": {
        "id": "5bj4aeE86zdH",
        "colab_type": "text"
      },
      "source": [
        "\n",
        "\n",
        "---\n",
        "\n",
        "## Question 6: \n",
        "Is the transpose of concatenated a & b tensor on dimension 1, same as the contatenated tensor of a & b on dimension 0? \n",
        "\n",
        "\n",
        "\n",
        "---\n",
        "\n"
      ]
    },
    {
      "cell_type": "code",
      "metadata": {
        "id": "nJNJ5dvJuoDZ",
        "colab_type": "code",
        "colab": {
          "base_uri": "https://localhost:8080/",
          "height": 190
        },
        "outputId": "f1938f0e-082a-4e6e-b0ff-6ce2b019f8bc"
      },
      "source": [
        "a = torch.zeros(3, 2)\n",
        "b = torch.ones(3, 2)\n",
        "print(torch.cat((a,b), dim=1).t())\n",
        "print(torch.cat((a, b), dim=0))"
      ],
      "execution_count": 46,
      "outputs": [
        {
          "output_type": "stream",
          "text": [
            "tensor([[0., 0., 0.],\n",
            "        [0., 0., 0.],\n",
            "        [1., 1., 1.],\n",
            "        [1., 1., 1.]])\n",
            "tensor([[0., 0.],\n",
            "        [0., 0.],\n",
            "        [0., 0.],\n",
            "        [1., 1.],\n",
            "        [1., 1.],\n",
            "        [1., 1.]])\n"
          ],
          "name": "stdout"
        }
      ]
    },
    {
      "cell_type": "markdown",
      "metadata": {
        "id": "0TXNne69j7LP",
        "colab_type": "text"
      },
      "source": [
        "Indexing with another tenxor/array:"
      ]
    },
    {
      "cell_type": "code",
      "metadata": {
        "id": "KiE-Fsi4jVd6",
        "colab_type": "code",
        "colab": {
          "base_uri": "https://localhost:8080/",
          "height": 104
        },
        "outputId": "7a2a1bcf-b32c-4dfc-a735-7762ed21f6f1"
      },
      "source": [
        "a = torch.arange(start=0, end=10)\n",
        "indices = np.arange(0, 10) > 5\n",
        "print(a)\n",
        "print(indices)\n",
        "print(a[indices])\n",
        "\n",
        "indices = torch.arange(start=0, end=10) %5\n",
        "print(indices)\n",
        "print(a[indices])"
      ],
      "execution_count": 47,
      "outputs": [
        {
          "output_type": "stream",
          "text": [
            "tensor([0, 1, 2, 3, 4, 5, 6, 7, 8, 9])\n",
            "[False False False False False False  True  True  True  True]\n",
            "tensor([6, 7, 8, 9])\n",
            "tensor([0, 1, 2, 3, 4, 0, 1, 2, 3, 4])\n",
            "tensor([0, 1, 2, 3, 4, 0, 1, 2, 3, 4])\n"
          ],
          "name": "stdout"
        }
      ]
    },
    {
      "cell_type": "markdown",
      "metadata": {
        "id": "LS4dnlu47WQu",
        "colab_type": "text"
      },
      "source": [
        "\n",
        "\n",
        "---\n",
        "\n",
        "## Question 7:\n",
        "\n",
        "`a` is defined as `torch.arange(start=0, end=10)`. We will create `b` using the two operations as below. In both cases do we get the same value?\n",
        "\n",
        "\n",
        "1.   indices variable created by the modulo operation on arange between 0 and 10. Then a new varialble `b` is created from `a` using the last 5 elements of indices. \n",
        "2.   indices variable created by the modulo operation on arange betwenn 1 and 11. Then a new varialble `b` is created from `a` using the last 5 elements of indices. \n",
        "\n",
        "\n",
        "\n",
        "---\n",
        "\n",
        "\n"
      ]
    },
    {
      "cell_type": "code",
      "metadata": {
        "id": "mgjPUdNFy0jO",
        "colab_type": "code",
        "colab": {
          "base_uri": "https://localhost:8080/",
          "height": 86
        },
        "outputId": "e99a6aa0-957e-4043-93d6-e29379ce0dce"
      },
      "source": [
        "a = torch.arange(start=0, end=10)\n",
        "indices = torch.arange(start=0, end=10) % 5\n",
        "print(indices)\n",
        "b = a[indices[-5:]]\n",
        "print(b)\n",
        "indices = torch.arange(start=1, end=11) % 5\n",
        "print(indices)\n",
        "b = a[indices[-5:]]\n",
        "print(b)"
      ],
      "execution_count": 50,
      "outputs": [
        {
          "output_type": "stream",
          "text": [
            "tensor([0, 1, 2, 3, 4, 0, 1, 2, 3, 4])\n",
            "tensor([0, 1, 2, 3, 4])\n",
            "tensor([1, 2, 3, 4, 0, 1, 2, 3, 4, 0])\n",
            "tensor([1, 2, 3, 4, 0])\n"
          ],
          "name": "stdout"
        }
      ]
    },
    {
      "cell_type": "markdown",
      "metadata": {
        "id": "eQ4ZCVsTk-KH",
        "colab_type": "text"
      },
      "source": [
        "What should we do if we have, say, rank-2-tensor and want to select only some rows?"
      ]
    },
    {
      "cell_type": "code",
      "metadata": {
        "id": "_GtRpotjkt1q",
        "colab_type": "code",
        "colab": {
          "base_uri": "https://localhost:8080/",
          "height": 138
        },
        "outputId": "639c7468-d1f1-408e-e8a4-faf554b9f739"
      },
      "source": [
        "tensor = torch.rand((5, 3))\n",
        "rows = torch.tensor([0, 2])\n",
        "print(tensor)\n",
        "tensor[rows]"
      ],
      "execution_count": 51,
      "outputs": [
        {
          "output_type": "stream",
          "text": [
            "tensor([[0.0611, 0.9990, 0.8205],\n",
            "        [0.1422, 0.9977, 0.1826],\n",
            "        [0.3298, 0.4098, 0.1962],\n",
            "        [0.3313, 0.8167, 0.6220],\n",
            "        [0.7588, 0.9800, 0.2191]])\n"
          ],
          "name": "stdout"
        },
        {
          "output_type": "execute_result",
          "data": {
            "text/plain": [
              "tensor([[0.0611, 0.9990, 0.8205],\n",
              "        [0.3298, 0.4098, 0.1962]])"
            ]
          },
          "metadata": {
            "tags": []
          },
          "execution_count": 51
        }
      ]
    },
    {
      "cell_type": "markdown",
      "metadata": {
        "id": "zIJnr_N2_Qaf",
        "colab_type": "text"
      },
      "source": [
        "\n",
        "\n",
        "---\n",
        "\n",
        "## Question 8: \n",
        "\n",
        "Consider a `tensor` defined as `torch.rand((6, 5))`. Is the shape of the new tensor created by taking the 0th, 2nd and 4th row of the old tensor same as the shape of the a newer tensor created by taking the 0th, 2nd and 4th row of the old tensor after transposing it by operation `torch.transpose(tensor, 0, 1)` ?\n",
        "\n",
        "\n",
        "\n",
        "---\n",
        "\n",
        "\n"
      ]
    },
    {
      "cell_type": "code",
      "metadata": {
        "id": "peh6oLiW1R8w",
        "colab_type": "code",
        "colab": {
          "base_uri": "https://localhost:8080/",
          "height": 52
        },
        "outputId": "bc1e39cf-9fa5-4623-d56c-dfc2fb665e7a"
      },
      "source": [
        "rows = torch.tensor([0, 2, 4])\n",
        "tensor = torch.rand((6, 5))\n",
        "t1 = tensor[rows]\n",
        "t2 = torch.transpose(tensor, 0, 1)\n",
        "t2 = t2[rows]\n",
        "print(t1.size())\n",
        "print(t2.size())"
      ],
      "execution_count": 60,
      "outputs": [
        {
          "output_type": "stream",
          "text": [
            "torch.Size([3, 5])\n",
            "torch.Size([3, 6])\n"
          ],
          "name": "stdout"
        }
      ]
    },
    {
      "cell_type": "markdown",
      "metadata": {
        "id": "naDzFMkslU0b",
        "colab_type": "text"
      },
      "source": [
        "## Tensor Shapes\n",
        "\n",
        "Reshaping a tensor is a frequently used operation. We can change the shape of a tensor without the memory copying overhead. There are two methods for that: `reshape` and `view`. \n",
        "\n",
        "The difference is the following: \n",
        "\n",
        "\n",
        "*   view tries to return a tensor, and it shares the same memory with the original tensor. In case, if it cannot reuse the same memory due to [some reason](https://pytorch.org/docs/stable/tensors.html?highlight=view#torch.Tensor.view), it just fails. \n",
        "*   reshape always returns the tensor with the desired shape and tries to reuse the memory. If it cannot, it creates a copy\n",
        "\n",
        "Let's see with the help of an example:"
      ]
    },
    {
      "cell_type": "code",
      "metadata": {
        "id": "HClDkqLLlMJh",
        "colab_type": "code",
        "colab": {
          "base_uri": "https://localhost:8080/",
          "height": 173
        },
        "outputId": "d773676c-eebc-4d38-a674-865c33f9290b"
      },
      "source": [
        "tensor = torch.rand(2, 3, 4)\n",
        "print('Pointer to data: ', tensor.data_ptr())\n",
        "print('Shape: ', tensor.shape)\n",
        "\n",
        "reshaped = tensor.reshape(24)\n",
        "\n",
        "view = tensor.view(3, 2, 4)\n",
        "print('Reshaped tensor - pointer to data', reshaped.data_ptr())\n",
        "print('Reshaped tensor shape ', reshaped.shape)\n",
        "\n",
        "print('Viewed tensor - pointer to data', view.data_ptr())\n",
        "print('Viewed tensor shape ', view.shape)\n",
        "\n",
        "assert tensor.data_ptr() == view.data_ptr()\n",
        "\n",
        "assert np.all(np.equal(tensor.numpy().flat, reshaped.numpy().flat))\n",
        "\n",
        "print('Original stride: ', tensor.stride())\n",
        "print('Reshaped stride: ', reshaped.stride())\n",
        "print('Viewed stride: ', view.stride())"
      ],
      "execution_count": 61,
      "outputs": [
        {
          "output_type": "stream",
          "text": [
            "Pointer to data:  96183296\n",
            "Shape:  torch.Size([2, 3, 4])\n",
            "Reshaped tensor - pointer to data 96183296\n",
            "Reshaped tensor shape  torch.Size([24])\n",
            "Viewed tensor - pointer to data 96183296\n",
            "Viewed tensor shape  torch.Size([3, 2, 4])\n",
            "Original stride:  (12, 4, 1)\n",
            "Reshaped stride:  (1,)\n",
            "Viewed stride:  (8, 4, 1)\n"
          ],
          "name": "stdout"
        }
      ]
    },
    {
      "cell_type": "markdown",
      "metadata": {
        "id": "jIN5jSppm4yC",
        "colab_type": "text"
      },
      "source": [
        "The basic rule about reshaping the tensor is definitely that you cannot change the total number of elements in it, so the product of all tensor's dimensions should always be the same. It gives us the ability to avoid specifying one dimension when reshaping the tensor - Pytorch can calculate it for us:"
      ]
    },
    {
      "cell_type": "code",
      "metadata": {
        "id": "e3D19ERFmzOl",
        "colab_type": "code",
        "colab": {
          "base_uri": "https://localhost:8080/",
          "height": 69
        },
        "outputId": "a28ebcca-19d8-4b1f-9e8e-35642124acbe"
      },
      "source": [
        "print(tensor.reshape(3, 2, 4).shape)\n",
        "print(tensor.reshape(3, 2, -1).shape)\n",
        "print(tensor.reshape(3, -1, 4).shape)"
      ],
      "execution_count": 62,
      "outputs": [
        {
          "output_type": "stream",
          "text": [
            "torch.Size([3, 2, 4])\n",
            "torch.Size([3, 2, 4])\n",
            "torch.Size([3, 2, 4])\n"
          ],
          "name": "stdout"
        }
      ]
    },
    {
      "cell_type": "markdown",
      "metadata": {
        "id": "ObgCQKUiETak",
        "colab_type": "text"
      },
      "source": [
        "\n",
        "\n",
        "---\n",
        "\n",
        "\n",
        "## Question 9:\n",
        "\n",
        "Consider a tensor `a` created with [1, 2, 3] and [1, 2, 3] of size (2, 3) is reshaped with operation `.reshape(-1, 2)`. Also consider a tensor `b` created with [[2, 1]] and of size (1, 2), later operated with `view(2, -1)` operation. \n",
        "\n",
        "If we do a dot product of a and b (using `torch.mm`) and perform the sum of all the elements (using `torch.sum`) what do we get? (enter int value without any decimal point in the quiz)\n",
        "\n",
        "\n",
        "\n",
        "---\n",
        "\n"
      ]
    },
    {
      "cell_type": "code",
      "metadata": {
        "id": "up5sMhnxJzPn",
        "colab_type": "code",
        "colab": {
          "base_uri": "https://localhost:8080/",
          "height": 225
        },
        "outputId": "056712e9-ce3e-4856-e9fa-6261104573be"
      },
      "source": [
        "a = torch.tensor([[1,2,3],[1,2,3]])\n",
        "print(a)\n",
        "a = a.reshape(-1,2)\n",
        "print(a)\n",
        "b = torch.tensor([[2,1]])\n",
        "print(b)\n",
        "b = b.view(2,-1)\n",
        "print(b)\n",
        "m = torch.mm(a,b)\n",
        "print(m)\n",
        "print(m.sum())"
      ],
      "execution_count": 66,
      "outputs": [
        {
          "output_type": "stream",
          "text": [
            "tensor([[1, 2, 3],\n",
            "        [1, 2, 3]])\n",
            "tensor([[1, 2],\n",
            "        [3, 1],\n",
            "        [2, 3]])\n",
            "tensor([[2, 1]])\n",
            "tensor([[2],\n",
            "        [1]])\n",
            "tensor([[4],\n",
            "        [7],\n",
            "        [7]])\n",
            "tensor(18)\n"
          ],
          "name": "stdout"
        }
      ]
    },
    {
      "cell_type": "markdown",
      "metadata": {
        "id": "mza7QPg3ndeV",
        "colab_type": "text"
      },
      "source": [
        "**Alternative ways to view tensors** - `expand` or `expand_as`.\n",
        "\n",
        "\n",
        "\n",
        "*   `expand` - requires the desired shape as an input\n",
        "*   `expand_as` - uses the shape of another tensor\n",
        "\n",
        "These operations \"repeat\" tensor's values along the specified axes without actually copying the data. \n",
        "\n",
        "As the documentation says, expand:\n",
        "\n",
        "\n",
        "> returns a new view of the self tensor with singleton dimensions expanded to a larger size. Tensor can be also expanded to a larger number of dimensions, and the new ones will be appended at the front. For the new dimensions, the size cannot be set to -1. \n",
        "\n",
        "**Use case:**\n",
        "\n",
        "\n",
        "\n",
        "*   index multi-channel tensor with single-channel mask - imagine a color image with 3 channels (RGB) and binary mask for the area of interest on that image. We cannot index the image with this kind of mask directly since the dimensions are different, but we can use `expand_as` operation to create a view of the mask that has the same dimensions as the image we want to apply it to, but has not copied the data. "
      ]
    },
    {
      "cell_type": "code",
      "metadata": {
        "id": "iz33E-V7nPQT",
        "colab_type": "code",
        "colab": {
          "base_uri": "https://localhost:8080/",
          "height": 613
        },
        "outputId": "d2092acd-06d6-4f93-b60b-1db38ef2de47"
      },
      "source": [
        "%matplotlib inline\n",
        "from matplotlib import pyplot as plt\n",
        "\n",
        "# Create a black image\n",
        "image = torch.zeros(size=(3, 256, 256), dtype=torch.int)\n",
        "\n",
        "# Leave the borders and make the rest of the image Green\n",
        "image[1, 18:256 - 18, 18:256 - 18] = 255\n",
        "\n",
        "# Create a mask of the same size\n",
        "mask = torch.zeros(size=(256, 256), dtype=torch.bool)\n",
        "\n",
        "# Assuming the green region in the original image is the Region of interest, change the mask to white for that area\n",
        "mask[18:256 - 18, 18:256 - 18] = 1\n",
        "\n",
        "# Create a view of the mask with the same dimensions as the original image\n",
        "mask_expanded = mask.expand_as(image)\n",
        "print(mask.shape)\n",
        "print(mask_expanded.shape)\n",
        "\n",
        "mask_np = mask_expanded.numpy().transpose(1, 2, 0) * 255\n",
        "image_np = image.numpy().transpose(1, 2, 0)\n",
        "\n",
        "fig, ax = plt.subplots(1, 2)\n",
        "ax[0].imshow(image_np)\n",
        "ax[1].imshow(mask_np)\n",
        "plt.show()\n",
        "\n",
        "image[0, mask] += 128\n",
        "fig, ax = plt.subplots(1, 2)\n",
        "ax[0].imshow(image_np)\n",
        "ax[1].imshow(mask_np)\n",
        "plt.show()\n",
        "\n",
        "image[mask_expanded] += 128\n",
        "image.clamp_(0, 255)\n",
        "fig, ax = plt.subplots(1, 2)\n",
        "ax[0].imshow(image_np)\n",
        "ax[1].imshow(mask_np)\n",
        "plt.show()"
      ],
      "execution_count": 67,
      "outputs": [
        {
          "output_type": "stream",
          "text": [
            "torch.Size([256, 256])\n",
            "torch.Size([3, 256, 256])\n"
          ],
          "name": "stdout"
        },
        {
          "output_type": "display_data",
          "data": {
            "image/png": "[encoded data removed]",
            "text/plain": [
              "<Figure size 432x288 with 2 Axes>"
            ]
          },
          "metadata": {
            "tags": [],
            "needs_background": "light"
          }
        },
        {
          "output_type": "display_data",
          "data": {
            "image/png": "[encoded data removed]",
            "text/plain": [
              "<Figure size 432x288 with 2 Axes>"
            ]
          },
          "metadata": {
            "tags": [],
            "needs_background": "light"
          }
        },
        {
          "output_type": "display_data",
          "data": {
            "image/png": "[encoded data removed]",
            "text/plain": [
              "<Figure size 432x288 with 2 Axes>"
            ]
          },
          "metadata": {
            "tags": [],
            "needs_background": "light"
          }
        }
      ]
    },
    {
      "cell_type": "markdown",
      "metadata": {
        "id": "jiXBx0k3ptOI",
        "colab_type": "text"
      },
      "source": [
        "In the example above, one can also find a couple of useful tricks:\n",
        "\n",
        "\n",
        "*   `clamp` method and function is a Pytorch's analogue of NumPy's `clip` function\n",
        "*   many operations on tensors have in-place form, that does not return modified data, but change values in the tensor. The in-place version of the operation has trailing underscore according to Pytorch's naming convension - in the exmaple above it is `clamp_`\n",
        "*   tensors have the same indexing as Numpy's arrays - one can use `:` seperated range, negative indexes and so on.\n",
        "\n",
        "\n",
        ".\n",
        "\n",
        "\n",
        "---\n",
        "\n",
        "# Images and their representations\n",
        "\n",
        "Now, let's discuss images, their representations and how different Python librarties work with them. \n",
        "\n",
        "Probably, the most well-known library for image loading and simple processing is [Pillow](https://pillow.readthedocs.io/en/stable/). \n",
        "\n",
        "However, many people in deep learning area stick with OpenCV for image loading and processing with some usage of another libraries when it is justified by performance/functionality. This is because OpenCV is in general much faster than the other libraries. Here you can find a couple of benchmarks: \n",
        "\n",
        "*   https://www.kaggle.com/zfturbo/benchmark-2019-speed-of-image-reading\n",
        "*   https://github.com/albumentations-team/albumentations#benchmarking-results\n",
        "\n",
        "To sum up the benchmarks above, there are two most common image formats, PNG and JPEGs. If your data is in PNG format - use OpenCV to read it. If it is in JPEG - use libturbojpeg. For image processing, use OpenCV if possible. _We will be using PIL a lot along with these._\n",
        "\n",
        "As you will read the code from others, you may find out that some of them use Pillow/something else to read data. You should know, that color image representations in OpenCV and other libraries are different - OpenCV uses \"BGR\" channel order, while others use \"RGB\" one. \n",
        "\n",
        "To change \"BRG\" <-> \"RGB\" the only thing we need to do it to change channel order."
      ]
    },
    {
      "cell_type": "code",
      "metadata": {
        "id": "ZYv4sZMmpndu",
        "colab_type": "code",
        "colab": {
          "base_uri": "https://localhost:8080/",
          "height": 463
        },
        "outputId": "6f0f6d53-be03-4def-ced6-7e0a7ea9e459"
      },
      "source": [
        "%matplotlib inline\n",
        "from matplotlib import pyplot as plt\n",
        "import cv2\n",
        "\n",
        "!wget -O mars.jpg https://encrypted-tbn0.gstatic.com/images?q=tbn%3AANd9GcRCA40ftnscVzfV8ft8e7vIzQXfXeZdtco8nknJrfCUW6INI40U\n",
        "bgr_image = cv2.imread('mars.jpg')\n",
        "# remember to add your own image in case you run this block, if you want to use the same image, \n",
        "# download it from: https://encrypted-tbn0.gstatic.com/images?q=tbn%3AANd9GcRCA40ftnscVzfV8ft8e7vIzQXfXeZdtco8nknJrfCUW6INI40U\n",
        "rgb_image = bgr_image[..., ::-1]\n",
        "fig, ax = plt.subplots(1, 2)\n",
        "ax[0].imshow(bgr_image)\n",
        "ax[1].imshow(rgb_image)\n",
        "plt.show()\n",
        "\n",
        "print(rgb_image[:,:,2])"
      ],
      "execution_count": 79,
      "outputs": [
        {
          "output_type": "stream",
          "text": [
            "--2020-07-27 18:00:29--  https://encrypted-tbn0.gstatic.com/images?q=tbn%3AANd9GcRCA40ftnscVzfV8ft8e7vIzQXfXeZdtco8nknJrfCUW6INI40U\n",
            "Resolving encrypted-tbn0.gstatic.com (encrypted-tbn0.gstatic.com)... 74.125.142.100, 74.125.142.113, 74.125.142.138, ...\n",
            "Connecting to encrypted-tbn0.gstatic.com (encrypted-tbn0.gstatic.com)|74.125.142.100|:443... connected.\n",
            "HTTP request sent, awaiting response... 200 OK\n",
            "Length: 18915 (18K) [image/jpeg]\n",
            "Saving to: ‘mars.jpg’\n",
            "\n",
            "\rmars.jpg              0%[                    ]       0  --.-KB/s               \rmars.jpg            100%[===================>]  18.47K  --.-KB/s    in 0s      \n",
            "\n",
            "2020-07-27 18:00:29 (83.2 MB/s) - ‘mars.jpg’ saved [18915/18915]\n",
            "\n"
          ],
          "name": "stdout"
        },
        {
          "output_type": "display_data",
          "data": {
            "image/png": "[encoded data removed]",
            "text/plain": [
              "<Figure size 432x288 with 2 Axes>"
            ]
          },
          "metadata": {
            "tags": [],
            "needs_background": "light"
          }
        },
        {
          "output_type": "stream",
          "text": [
            "[[5 5 5 ... 5 5 5]\n",
            " [5 5 5 ... 5 5 5]\n",
            " [5 5 5 ... 5 5 5]\n",
            " ...\n",
            " [5 5 5 ... 5 5 5]\n",
            " [3 4 4 ... 6 6 6]\n",
            " [3 4 4 ... 6 6 6]]\n"
          ],
          "name": "stdout"
        }
      ]
    },
    {
      "cell_type": "markdown",
      "metadata": {
        "id": "yoi4TeNBGHle",
        "colab_type": "text"
      },
      "source": [
        "\n",
        "\n",
        "---\n",
        "\n",
        "## Question 10:\n",
        "\n",
        "Looking at the results above it can be said that the pixel values in the blue channels would be very small compared to red channel. True/False?\n",
        "\n",
        "\n",
        "---\n",
        "\n",
        "\n"
      ]
    },
    {
      "cell_type": "markdown",
      "metadata": {
        "id": "88wpmjT_b1fg",
        "colab_type": "text"
      },
      "source": [
        "* TRUE"
      ]
    },
    {
      "cell_type": "markdown",
      "metadata": {
        "id": "b3ugFd57zNwa",
        "colab_type": "text"
      },
      "source": [
        "# Autograd\n",
        "\n",
        "Pytorch supports automatic differentiation. The module which implements this is called **AutoGrad**. It calculates the gradients and keeps track in forward and backward passes. For primitive tensors, you need to enable or disable it using the `required_grad` flag. But, for advanced tensors, it is enabled by default"
      ]
    },
    {
      "cell_type": "code",
      "metadata": {
        "id": "VMOp4aiou6JR",
        "colab_type": "code",
        "colab": {
          "base_uri": "https://localhost:8080/",
          "height": 190
        },
        "outputId": "5dc9862b-0d38-4ce6-af7b-fea5986597f4"
      },
      "source": [
        "a = torch.rand((3, 5), requires_grad = True)\n",
        "print(a)\n",
        "result = a * 5\n",
        "print(result)\n",
        "\n",
        "# grad can be implicitly created only for scalar outputs\n",
        "# so let's calculate the sum here so that the output becomes a scalar and we can apply a backward pass\n",
        "mean_result = result.sum()\n",
        "print(mean_result)\n",
        "# calculate gradient\n",
        "mean_result.backward()\n",
        "# print gradient of a\n",
        "print(a.grad)"
      ],
      "execution_count": 80,
      "outputs": [
        {
          "output_type": "stream",
          "text": [
            "tensor([[0.6923, 0.9010, 0.0575, 0.2039, 0.1481],\n",
            "        [0.7392, 0.8996, 0.7556, 0.5629, 0.6206],\n",
            "        [0.1434, 0.1884, 0.7509, 0.3283, 0.0943]], requires_grad=True)\n",
            "tensor([[3.4617, 4.5048, 0.2877, 1.0193, 0.7406],\n",
            "        [3.6959, 4.4980, 3.7778, 2.8147, 3.1030],\n",
            "        [0.7168, 0.9419, 3.7547, 1.6417, 0.4713]], grad_fn=<MulBackward0>)\n",
            "tensor(35.4301, grad_fn=<SumBackward0>)\n",
            "tensor([[5., 5., 5., 5., 5.],\n",
            "        [5., 5., 5., 5., 5.],\n",
            "        [5., 5., 5., 5., 5.]])\n"
          ],
          "name": "stdout"
        }
      ]
    },
    {
      "cell_type": "markdown",
      "metadata": {
        "id": "ym0Amk2IGfLx",
        "colab_type": "text"
      },
      "source": [
        "\n",
        "\n",
        "---\n",
        "\n",
        "## Question 11: \n",
        "\n",
        "Why the gradient of a is all 5s above?\n",
        "\n",
        "\n",
        "\n",
        "---\n",
        "\n"
      ]
    },
    {
      "cell_type": "markdown",
      "metadata": {
        "id": "S1isW41Zc4po",
        "colab_type": "text"
      },
      "source": [
        "* Because the function applied in the forward direction is at line #3 and is: `result = a * 5`, the differential of which wrt `a` is 5."
      ]
    },
    {
      "cell_type": "markdown",
      "metadata": {
        "id": "7PDgGq2R0k7I",
        "colab_type": "text"
      },
      "source": [
        "As we see, Pytorch automagically calculated the gradient value for us. It looks to be the correct value - we multiplied an input by 5, so the gradient of this operation equals to 5.\n",
        "\n",
        "# Disabling Autograd for tensors\n",
        "\n",
        "We don't need to compute gradients for all the variables that are involved in the pipeline. The Pytorch API provides 2 ways to disable autograd.\n",
        "\n",
        "`detach` - returns a copy of the tensor with autograd disabled. This \n",
        "\n",
        "1.   copy is built on the same memory as the original tensor, so in-place size / stride / storage changes (such as resize_ / resizeas / set / transpose) modifications are not allowed.\n",
        "2.   torch.no_grad() - It is a context manager that allows you to guard a series of operations from autograd without creating new tensors."
      ]
    },
    {
      "cell_type": "code",
      "metadata": {
        "id": "yqVG9fQb0cLW",
        "colab_type": "code",
        "colab": {
          "base_uri": "https://localhost:8080/",
          "height": 69
        },
        "outputId": "5bef141c-68bd-4133-bbac-5a2b9cfdc252"
      },
      "source": [
        "a = torch.rand((3, 5), requires_grad=True)\n",
        "detached_a = a.detach()\n",
        "detached_result = detached_a * 5\n",
        "result = a * 10\n",
        "# we cannot do backward pass that is required for autograd using multideminsional output,\n",
        "# so let's calculate the sum here\n",
        "mean_result = result.sum()\n",
        "mean_result.backward()\n",
        "a.grad"
      ],
      "execution_count": 81,
      "outputs": [
        {
          "output_type": "execute_result",
          "data": {
            "text/plain": [
              "tensor([[10., 10., 10., 10., 10.],\n",
              "        [10., 10., 10., 10., 10.],\n",
              "        [10., 10., 10., 10., 10.]])"
            ]
          },
          "metadata": {
            "tags": []
          },
          "execution_count": 81
        }
      ]
    },
    {
      "cell_type": "code",
      "metadata": {
        "id": "uqpch2Be02J7",
        "colab_type": "code",
        "colab": {
          "base_uri": "https://localhost:8080/",
          "height": 69
        },
        "outputId": "7ad4dc2c-41da-4726-dc3a-3586ec1475e3"
      },
      "source": [
        "a = torch.rand((3, 5), requires_grad=True)\n",
        "with torch.no_grad():\n",
        "    detached_result = a * 5\n",
        "result = a * 10\n",
        "# we cannot do backward pass that is required for autograd using multideminsional output,\n",
        "# so let's calculate the sum here\n",
        "mean_result = result.sum()\n",
        "mean_result.backward()\n",
        "a.grad"
      ],
      "execution_count": 82,
      "outputs": [
        {
          "output_type": "execute_result",
          "data": {
            "text/plain": [
              "tensor([[10., 10., 10., 10., 10.],\n",
              "        [10., 10., 10., 10., 10.],\n",
              "        [10., 10., 10., 10., 10.]])"
            ]
          },
          "metadata": {
            "tags": []
          },
          "execution_count": 82
        }
      ]
    },
    {
      "cell_type": "markdown",
      "metadata": {
        "id": "vjh2rYOPJUAZ",
        "colab_type": "text"
      },
      "source": [
        "# Custom Network\n",
        "\n",
        "A fully-connected ReLU network with one hidden layer and no biases, trained to predict y from x by minimizing squared Euclidean distance.\n",
        "\n",
        "This implementation uses PyTorch tensors to manually compute the forward pass, loss, and backward pass.\n",
        "\n",
        "A PyTorch Tensor is basically the same as a numpy array: it does not know anything about deep learning or computational graphs or gradients, and is just a generic n-dimensional array to be used for arbitrary numeric computation.\n",
        "\n",
        "The biggest difference between a numpy array and a PyTorch Tensor is that a PyTorch Tensor can run on either CPU or GPU. To run operations on the GPU, just cast the Tensor to a cuda datatype."
      ]
    },
    {
      "cell_type": "code",
      "metadata": {
        "id": "0nf5RaB104Vp",
        "colab_type": "code",
        "colab": {
          "base_uri": "https://localhost:8080/",
          "height": 1000
        },
        "outputId": "d2901d94-b0ba-48a0-8753-fc9173fbf613"
      },
      "source": [
        "dtype = torch.float\n",
        "device = torch.device(\"cpu\")\n",
        "# device = torch.device(\"cuda:0\") # Uncomment this to run on GPU\n",
        "\n",
        "# N is batch size; D_in is input dimension;\n",
        "# H is hidden dimension; D_out is output dimension.\n",
        "N, D_in, H, D_out = 64, 1000, 100, 10\n",
        "\n",
        "# Create random input and output data\n",
        "x = torch.randn(N, D_in, device=device, dtype=dtype)\n",
        "y = torch.randn(N, D_out, device=device, dtype=dtype)\n",
        "\n",
        "# Randomly initialize weights\n",
        "w1 = torch.randn(D_in, H, device=device, dtype=dtype)\n",
        "w2 = torch.randn(H, D_out, device=device, dtype=dtype)\n",
        "\n",
        "learning_rate = 1e-6\n",
        "for t in range(500):\n",
        "    # Forward pass: compute predicted y\n",
        "    h = x.mm(w1)\n",
        "    h_relu = h.clamp(min=0)\n",
        "    y_pred = h_relu.mm(w2)\n",
        "\n",
        "    # Compute and print loss\n",
        "    loss = (y_pred - y).pow(2).sum().item()\n",
        "    print(t, loss)\n",
        "\n",
        "    # Backprop to compute gradients of w1 and w2 with respect to loss\n",
        "    grad_y_pred = 2*(y_pred - y)\n",
        "    grad_w2 = h_relu.t().mm(grad_y_pred)\n",
        "    grad_h_relu = grad_y_pred.mm(w2.t())\n",
        "    grad_h = grad_h_relu\n",
        "    #grad_h = grad_h_relu.clone()\n",
        "    grad_h[h < 0] = 0\n",
        "    grad_w1 = x.t().mm(grad_h)\n",
        "\n",
        "    # Update weights using gradient descent\n",
        "    w1 -= learning_rate * grad_w1\n",
        "    w2 -= learning_rate * grad_w2"
      ],
      "execution_count": 84,
      "outputs": [
        {
          "output_type": "stream",
          "text": [
            "0 27180512.0\n",
            "1 25737178.0\n",
            "2 29801958.0\n",
            "3 35155812.0\n",
            "4 36711288.0\n",
            "5 30297786.0\n",
            "6 19053786.0\n",
            "7 9504511.0\n",
            "8 4370669.5\n",
            "9 2185654.75\n",
            "10 1308557.75\n",
            "11 926452.6875\n",
            "12 728652.5\n",
            "13 604676.875\n",
            "14 515166.71875\n",
            "15 445057.375\n",
            "16 387752.625\n",
            "17 339932.71875\n",
            "18 299473.0\n",
            "19 264939.5625\n",
            "20 235249.5625\n",
            "21 209606.09375\n",
            "22 187380.125\n",
            "23 167983.859375\n",
            "24 150980.09375\n",
            "25 136014.09375\n",
            "26 122841.2109375\n",
            "27 111173.046875\n",
            "28 100798.0546875\n",
            "29 91551.8515625\n",
            "30 83294.9765625\n",
            "31 75921.859375\n",
            "32 69301.7734375\n",
            "33 63345.22265625\n",
            "34 57976.72265625\n",
            "35 53126.86328125\n",
            "36 48737.5859375\n",
            "37 44762.1171875\n",
            "38 41152.21875\n",
            "39 37869.59375\n",
            "40 34879.83984375\n",
            "41 32154.107421875\n",
            "42 29666.0078125\n",
            "43 27391.9375\n",
            "44 25310.896484375\n",
            "45 23404.55078125\n",
            "46 21657.326171875\n",
            "47 20054.796875\n",
            "48 18581.537109375\n",
            "49 17226.89453125\n",
            "50 15980.33984375\n",
            "51 14834.69140625\n",
            "52 13779.3232421875\n",
            "53 12805.79296875\n",
            "54 11907.228515625\n",
            "55 11077.064453125\n",
            "56 10309.6240234375\n",
            "57 9600.0283203125\n",
            "58 8943.248046875\n",
            "59 8334.86328125\n",
            "60 7771.1181640625\n",
            "61 7248.333984375\n",
            "62 6763.6796875\n",
            "63 6313.76708984375\n",
            "64 5895.943359375\n",
            "65 5507.8701171875\n",
            "66 5147.279296875\n",
            "67 4811.9326171875\n",
            "68 4500.0224609375\n",
            "69 4210.234375\n",
            "70 3940.496826171875\n",
            "71 3689.23046875\n",
            "72 3455.043701171875\n",
            "73 3236.75146484375\n",
            "74 3033.10986328125\n",
            "75 2843.12353515625\n",
            "76 2665.901123046875\n",
            "77 2500.3779296875\n",
            "78 2345.772705078125\n",
            "79 2201.30615234375\n",
            "80 2066.246337890625\n",
            "81 1939.93896484375\n",
            "82 1821.82470703125\n",
            "83 1711.3402099609375\n",
            "84 1607.935546875\n",
            "85 1511.1298828125\n",
            "86 1420.490478515625\n",
            "87 1335.5880126953125\n",
            "88 1256.0711669921875\n",
            "89 1181.57177734375\n",
            "90 1111.70947265625\n",
            "91 1046.190673828125\n",
            "92 984.714599609375\n",
            "93 927.0706176757812\n",
            "94 872.96875\n",
            "95 822.1918334960938\n",
            "96 774.545654296875\n",
            "97 729.78369140625\n",
            "98 687.7670288085938\n",
            "99 648.3240966796875\n",
            "100 611.2523193359375\n",
            "101 576.4183959960938\n",
            "102 543.6630859375\n",
            "103 512.858154296875\n",
            "104 483.8810119628906\n",
            "105 456.6213073730469\n",
            "106 430.9677429199219\n",
            "107 406.8280334472656\n",
            "108 384.09381103515625\n",
            "109 362.69439697265625\n",
            "110 342.542236328125\n",
            "111 323.563232421875\n",
            "112 305.6725769042969\n",
            "113 288.8220520019531\n",
            "114 272.936279296875\n",
            "115 257.96527099609375\n",
            "116 243.85067749023438\n",
            "117 230.53997802734375\n",
            "118 217.98660278320312\n",
            "119 206.14596557617188\n",
            "120 194.97117614746094\n",
            "121 184.43310546875\n",
            "122 174.48532104492188\n",
            "123 165.095703125\n",
            "124 156.23553466796875\n",
            "125 147.86573791503906\n",
            "126 139.96261596679688\n",
            "127 132.50067138671875\n",
            "128 125.45204162597656\n",
            "129 118.78926849365234\n",
            "130 112.49378204345703\n",
            "131 106.54771423339844\n",
            "132 100.925048828125\n",
            "133 95.61042785644531\n",
            "134 90.5859603881836\n",
            "135 85.83352661132812\n",
            "136 81.34043884277344\n",
            "137 77.08857727050781\n",
            "138 73.06981658935547\n",
            "139 69.26641845703125\n",
            "140 65.66692352294922\n",
            "141 62.26283645629883\n",
            "142 59.03839874267578\n",
            "143 55.987388610839844\n",
            "144 53.100181579589844\n",
            "145 50.368408203125\n",
            "146 47.7802734375\n",
            "147 45.32887268066406\n",
            "148 43.00715255737305\n",
            "149 40.807403564453125\n",
            "150 38.72463607788086\n",
            "151 36.750667572021484\n",
            "152 34.88127899169922\n",
            "153 33.108116149902344\n",
            "154 31.428457260131836\n",
            "155 29.83759117126465\n",
            "156 28.328275680541992\n",
            "157 26.897199630737305\n",
            "158 25.541818618774414\n",
            "159 24.255949020385742\n",
            "160 23.03661346435547\n",
            "161 21.88066864013672\n",
            "162 20.783428192138672\n",
            "163 19.743724822998047\n",
            "164 18.7574520111084\n",
            "165 17.820890426635742\n",
            "166 16.93246841430664\n",
            "167 16.08980369567871\n",
            "168 15.28999137878418\n",
            "169 14.530628204345703\n",
            "170 13.81009578704834\n",
            "171 13.126727104187012\n",
            "172 12.47740650177002\n",
            "173 11.860709190368652\n",
            "174 11.275904655456543\n",
            "175 10.720125198364258\n",
            "176 10.192740440368652\n",
            "177 9.691568374633789\n",
            "178 9.21583080291748\n",
            "179 8.764158248901367\n",
            "180 8.33439826965332\n",
            "181 7.926743984222412\n",
            "182 7.539405822753906\n",
            "183 7.171221733093262\n",
            "184 6.821603298187256\n",
            "185 6.48947286605835\n",
            "186 6.173669338226318\n",
            "187 5.873394012451172\n",
            "188 5.5881876945495605\n",
            "189 5.316930294036865\n",
            "190 5.059537887573242\n",
            "191 4.814412593841553\n",
            "192 4.5814714431762695\n",
            "193 4.3601579666137695\n",
            "194 4.149877548217773\n",
            "195 3.9497902393341064\n",
            "196 3.759376049041748\n",
            "197 3.578474521636963\n",
            "198 3.40651273727417\n",
            "199 3.2428109645843506\n",
            "200 3.0869863033294678\n",
            "201 2.9391441345214844\n",
            "202 2.798318862915039\n",
            "203 2.6642513275146484\n",
            "204 2.536882162094116\n",
            "205 2.415651321411133\n",
            "206 2.3002328872680664\n",
            "207 2.190601110458374\n",
            "208 2.086063861846924\n",
            "209 1.986677646636963\n",
            "210 1.8921116590499878\n",
            "211 1.8021072149276733\n",
            "212 1.716420292854309\n",
            "213 1.6348819732666016\n",
            "214 1.5573521852493286\n",
            "215 1.4835094213485718\n",
            "216 1.4132983684539795\n",
            "217 1.3464090824127197\n",
            "218 1.2825864553451538\n",
            "219 1.22200608253479\n",
            "220 1.1643320322036743\n",
            "221 1.109334111213684\n",
            "222 1.0570355653762817\n",
            "223 1.0072047710418701\n",
            "224 0.9597697257995605\n",
            "225 0.91461181640625\n",
            "226 0.8714889287948608\n",
            "227 0.830509603023529\n",
            "228 0.7915362119674683\n",
            "229 0.7544167637825012\n",
            "230 0.7189563512802124\n",
            "231 0.6852083206176758\n",
            "232 0.6531350016593933\n",
            "233 0.6224738359451294\n",
            "234 0.5933749675750732\n",
            "235 0.5655443668365479\n",
            "236 0.5391376614570618\n",
            "237 0.5140798091888428\n",
            "238 0.48997873067855835\n",
            "239 0.4670880436897278\n",
            "240 0.4452880322933197\n",
            "241 0.4245012700557709\n",
            "242 0.4046930968761444\n",
            "243 0.38589802384376526\n",
            "244 0.36794254183769226\n",
            "245 0.35081571340560913\n",
            "246 0.3345170021057129\n",
            "247 0.3189389705657959\n",
            "248 0.3041645586490631\n",
            "249 0.29002416133880615\n",
            "250 0.27659207582473755\n",
            "251 0.2637450695037842\n",
            "252 0.251530259847641\n",
            "253 0.23991402983665466\n",
            "254 0.22877554595470428\n",
            "255 0.21818995475769043\n",
            "256 0.20805397629737854\n",
            "257 0.19842973351478577\n",
            "258 0.18924173712730408\n",
            "259 0.1805359572172165\n",
            "260 0.17215850949287415\n",
            "261 0.16427016258239746\n",
            "262 0.156654953956604\n",
            "263 0.14943474531173706\n",
            "264 0.1425546258687973\n",
            "265 0.1360020488500595\n",
            "266 0.12975533306598663\n",
            "267 0.12374521046876907\n",
            "268 0.11806689202785492\n",
            "269 0.11264072358608246\n",
            "270 0.1074453592300415\n",
            "271 0.1025298535823822\n",
            "272 0.09782280772924423\n",
            "273 0.09335146844387054\n",
            "274 0.08905736356973648\n",
            "275 0.08497819304466248\n",
            "276 0.08108210563659668\n",
            "277 0.07737015187740326\n",
            "278 0.07382877171039581\n",
            "279 0.07044074684381485\n",
            "280 0.06720437109470367\n",
            "281 0.06413083523511887\n",
            "282 0.06118916720151901\n",
            "283 0.05838043987751007\n",
            "284 0.055709172040224075\n",
            "285 0.05318494513630867\n",
            "286 0.05073517560958862\n",
            "287 0.04842552915215492\n",
            "288 0.046234916895627975\n",
            "289 0.044121257960796356\n",
            "290 0.04211224615573883\n",
            "291 0.04019493609666824\n",
            "292 0.0383625291287899\n",
            "293 0.036626625806093216\n",
            "294 0.0349573940038681\n",
            "295 0.033364541828632355\n",
            "296 0.031845249235630035\n",
            "297 0.030398257076740265\n",
            "298 0.029015108942985535\n",
            "299 0.027702514082193375\n",
            "300 0.02644188702106476\n",
            "301 0.02525518089532852\n",
            "302 0.024108795449137688\n",
            "303 0.023029107600450516\n",
            "304 0.02199128083884716\n",
            "305 0.021005801856517792\n",
            "306 0.020046290010213852\n",
            "307 0.01914919540286064\n",
            "308 0.018291493877768517\n",
            "309 0.017469577491283417\n",
            "310 0.016694698482751846\n",
            "311 0.01594551093876362\n",
            "312 0.015231932513415813\n",
            "313 0.014552351087331772\n",
            "314 0.013901771046221256\n",
            "315 0.013284992426633835\n",
            "316 0.012702805921435356\n",
            "317 0.012135381810367107\n",
            "318 0.011596969328820705\n",
            "319 0.011074507609009743\n",
            "320 0.010590695776045322\n",
            "321 0.010121547617018223\n",
            "322 0.009681204333901405\n",
            "323 0.009252947755157948\n",
            "324 0.008846371434628963\n",
            "325 0.00845708604902029\n",
            "326 0.008087205700576305\n",
            "327 0.00773404398933053\n",
            "328 0.007397717796266079\n",
            "329 0.007073434069752693\n",
            "330 0.0067691439762711525\n",
            "331 0.006476378068327904\n",
            "332 0.006201531738042831\n",
            "333 0.005930137354880571\n",
            "334 0.005681314971297979\n",
            "335 0.005436131730675697\n",
            "336 0.005204364657402039\n",
            "337 0.004983775783330202\n",
            "338 0.004772062413394451\n",
            "339 0.004571938421577215\n",
            "340 0.004381066653877497\n",
            "341 0.004199754446744919\n",
            "342 0.00402509281411767\n",
            "343 0.0038565893191844225\n",
            "344 0.0036989105865359306\n",
            "345 0.003542799735441804\n",
            "346 0.0034001092426478863\n",
            "347 0.003267590655013919\n",
            "348 0.003132803598418832\n",
            "349 0.0030075402464717627\n",
            "350 0.0028871961403638124\n",
            "351 0.002774033695459366\n",
            "352 0.0026636412367224693\n",
            "353 0.0025583745446056128\n",
            "354 0.002456427551805973\n",
            "355 0.002363454084843397\n",
            "356 0.0022672414779663086\n",
            "357 0.002183783333748579\n",
            "358 0.0020988821052014828\n",
            "359 0.00201796623878181\n",
            "360 0.001941218739375472\n",
            "361 0.0018704240210354328\n",
            "362 0.001800507539883256\n",
            "363 0.001732208882458508\n",
            "364 0.0016675821971148252\n",
            "365 0.0016054132720455527\n",
            "366 0.0015488548669964075\n",
            "367 0.0014922687551006675\n",
            "368 0.001438574749045074\n",
            "369 0.0013863345375284553\n",
            "370 0.0013366101775318384\n",
            "371 0.0012879815185442567\n",
            "372 0.0012434055097401142\n",
            "373 0.0012004992458969355\n",
            "374 0.001157136750407517\n",
            "375 0.0011190837249159813\n",
            "376 0.0010800601448863745\n",
            "377 0.001043284428305924\n",
            "378 0.001007635029964149\n",
            "379 0.0009725949494168162\n",
            "380 0.0009406979661434889\n",
            "381 0.0009099438320845366\n",
            "382 0.0008794119348749518\n",
            "383 0.0008494347566738725\n",
            "384 0.0008228031219914556\n",
            "385 0.0007973770843818784\n",
            "386 0.0007711364887654781\n",
            "387 0.0007483148365281522\n",
            "388 0.0007242053980007768\n",
            "389 0.0007013740832917392\n",
            "390 0.0006800600094720721\n",
            "391 0.0006591465207748115\n",
            "392 0.0006394944502972066\n",
            "393 0.0006200757925398648\n",
            "394 0.0006019012071192265\n",
            "395 0.000583247747272253\n",
            "396 0.000565708614885807\n",
            "397 0.0005498558166436851\n",
            "398 0.0005329573759809136\n",
            "399 0.000517762266099453\n",
            "400 0.0005041425465606153\n",
            "401 0.0004892214783467352\n",
            "402 0.0004751940432470292\n",
            "403 0.0004613420460373163\n",
            "404 0.0004484361270442605\n",
            "405 0.00043672785977832973\n",
            "406 0.00042396888602524996\n",
            "407 0.0004131862660869956\n",
            "408 0.00040221548988483846\n",
            "409 0.00039198528975248337\n",
            "410 0.00038168125320225954\n",
            "411 0.00037116004386916757\n",
            "412 0.0003616620961111039\n",
            "413 0.0003516204305924475\n",
            "414 0.00034387240884825587\n",
            "415 0.00033504917519167066\n",
            "416 0.0003261648234911263\n",
            "417 0.0003174728772137314\n",
            "418 0.00030916836112737656\n",
            "419 0.0003017380367964506\n",
            "420 0.000294379802653566\n",
            "421 0.00028691854095086455\n",
            "422 0.0002793878084048629\n",
            "423 0.000273174955509603\n",
            "424 0.00026650819927453995\n",
            "425 0.00025912807905115187\n",
            "426 0.00025367308990098536\n",
            "427 0.00024737665080465376\n",
            "428 0.00024175868020392954\n",
            "429 0.0002369125431869179\n",
            "430 0.00023062786203809083\n",
            "431 0.0002251454716315493\n",
            "432 0.00022005908249411732\n",
            "433 0.0002155088441213593\n",
            "434 0.0002110273198923096\n",
            "435 0.00020649019279517233\n",
            "436 0.00020188667986076325\n",
            "437 0.00019702059216797352\n",
            "438 0.0001933822059072554\n",
            "439 0.00018916897533927113\n",
            "440 0.00018534250557422638\n",
            "441 0.0001810194953577593\n",
            "442 0.00017778253823053092\n",
            "443 0.00017436823691241443\n",
            "444 0.00017101483535952866\n",
            "445 0.00016733371012378484\n",
            "446 0.00016342662274837494\n",
            "447 0.0001601768599357456\n",
            "448 0.00015748250007163733\n",
            "449 0.0001542966056149453\n",
            "450 0.00015102226461749524\n",
            "451 0.00014870126324240118\n",
            "452 0.00014575361274182796\n",
            "453 0.00014276251022238284\n",
            "454 0.0001403716451022774\n",
            "455 0.0001375505089526996\n",
            "456 0.00013455783482640982\n",
            "457 0.00013187048898544163\n",
            "458 0.00012943142792209983\n",
            "459 0.00012686176341958344\n",
            "460 0.0001250678615178913\n",
            "461 0.00012258444621693343\n",
            "462 0.00012009687634417787\n",
            "463 0.0001182139094453305\n",
            "464 0.00011622952297329903\n",
            "465 0.00011450159945525229\n",
            "466 0.00011211432865820825\n",
            "467 0.00011023084516637027\n",
            "468 0.00010843738709809259\n",
            "469 0.0001065743708750233\n",
            "470 0.0001052579318638891\n",
            "471 0.0001034563611028716\n",
            "472 0.00010159148223465309\n",
            "473 9.993877029046416e-05\n",
            "474 9.824756853049621e-05\n",
            "475 9.660366049502045e-05\n",
            "476 9.535474237054586e-05\n",
            "477 9.359706746181473e-05\n",
            "478 9.214774763677269e-05\n",
            "479 9.088141814572737e-05\n",
            "480 8.912741031963378e-05\n",
            "481 8.742352656554431e-05\n",
            "482 8.606856863480061e-05\n",
            "483 8.493776840623468e-05\n",
            "484 8.321350469486788e-05\n",
            "485 8.198039722628891e-05\n",
            "486 8.075630466919392e-05\n",
            "487 7.966125849634409e-05\n",
            "488 7.851350528653711e-05\n",
            "489 7.744885806459934e-05\n",
            "490 7.594485941808671e-05\n",
            "491 7.497677142964676e-05\n",
            "492 7.385564094875008e-05\n",
            "493 7.305825420189649e-05\n",
            "494 7.186897710198537e-05\n",
            "495 7.091286533977836e-05\n",
            "496 7.008628745097667e-05\n",
            "497 6.884790491312742e-05\n",
            "498 6.774647044949234e-05\n",
            "499 6.677966302959248e-05\n"
          ],
          "name": "stdout"
        }
      ]
    },
    {
      "cell_type": "markdown",
      "metadata": {
        "id": "ycwxAPHZLNST",
        "colab_type": "text"
      },
      "source": [
        "\n",
        "\n",
        "---\n",
        "## Question 12\n",
        "\n",
        "In the code above, why do we have 2 in '2.0*(y_pred - y)`?\n",
        "* `df/dx` of `f(x) = x**2` is `2*x`\n",
        "\n",
        "## Question 13\n",
        "In the code above, what does `grad_h[h < 0] = 0` signify?\n",
        "* Derivative of ReLU\n",
        "\n",
        "## Question 14\n",
        "In the code above, how many \"epochs\" have we trained the model for?\n",
        "* 500\n",
        "\n",
        "## Question 15\n",
        "In the code above, if we take the trained model, and run it on fresh  inputs, the trained model will be able to predict fresh output with high accuracy. \n",
        "* In the same execution session, with the same random seed, probably yes! But because it says \"fresh\" - the answer is No!\n",
        "\n",
        "## Question 16\n",
        "In the code above, if we dont use clone in `grad_h = grad_h_relu.clone()` the model will still train without any issues. \n",
        "* Yes (I got this wrong - still dont know why!)"
      ]
    },
    {
      "cell_type": "code",
      "metadata": {
        "id": "PnJ49I07JJI6",
        "colab_type": "code",
        "colab": {}
      },
      "source": [
        ""
      ],
      "execution_count": null,
      "outputs": []
    }
  ]
}